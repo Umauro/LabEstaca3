{
 "cells": [
  {
   "cell_type": "code",
   "execution_count": 10,
   "metadata": {
    "collapsed": true
   },
   "outputs": [],
   "source": [
    "import pandas as pd\n",
    "import matplotlib.pyplot as plt\n",
    "import numpy as np\n",
    "import scipy as sci\n",
    "from scipy import stats, special\n",
    "import statsmodels.api as sm\n",
    "import math\n",
    "#import warnings\n",
    "#warnings.filterwarnings('ignore')"
   ]
  },
  {
   "cell_type": "code",
   "execution_count": 16,
   "metadata": {
    "collapsed": false
   },
   "outputs": [
    {
     "name": "stdout",
     "output_type": "stream",
     "text": [
      "2.60349215342\n"
     ]
    }
   ],
   "source": [
    "def primeraDerivada(alpha, n, sumatoria):\n",
    "    return (-n * special.digamma(alpha)) + sumatoria \n",
    "    \n",
    "def segundaDerivada(alpha, n):\n",
    "    return (-n * special.polygamma(1, alpha))\n",
    "\n",
    "alpha = 0.2\n",
    "newalpha = 0\n",
    "\n",
    "umbral = 0.0000001\n",
    "\n",
    "muestra = pd.read_csv('gamma.csv')\n",
    "n = len(muestra['x'])\n",
    "sumatoria = 0\n",
    "\n",
    "for i in muestra['x']:\n",
    "    sumatoria += math.log(i)\n",
    "\n",
    "while(True):\n",
    "    newalpha = alpha - (primeraDerivada(alpha, n, sumatoria)/segundaDerivada(alpha, n))\n",
    "    if(abs(newalpha - alpha)< umbral):\n",
    "        alpha = newalpha\n",
    "        break\n",
    "    alpha = newalpha\n",
    "print(alpha)\n",
    "    "
   ]
  },
  {
   "cell_type": "code",
   "execution_count": null,
   "metadata": {
    "collapsed": true
   },
   "outputs": [],
   "source": []
  }
 ],
 "metadata": {
  "kernelspec": {
   "display_name": "Python 3",
   "language": "python",
   "name": "python3"
  },
  "language_info": {
   "codemirror_mode": {
    "name": "ipython",
    "version": 3
   },
   "file_extension": ".py",
   "mimetype": "text/x-python",
   "name": "python",
   "nbconvert_exporter": "python",
   "pygments_lexer": "ipython3",
   "version": "3.6.0"
  }
 },
 "nbformat": 4,
 "nbformat_minor": 2
}
