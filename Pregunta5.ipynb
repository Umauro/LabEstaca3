{
 "cells": [
  {
   "cell_type": "code",
   "execution_count": 10,
   "metadata": {
    "collapsed": true
   },
   "outputs": [],
   "source": [
    "import pandas as pd\n",
    "import matplotlib.pyplot as plt\n",
    "import numpy as np\n",
    "import scipy as sci\n",
    "from scipy import stats, special\n",
    "import statsmodels.api as sm\n",
    "import math\n",
    "#import warnings\n",
    "#warnings.filterwarnings('ignore')"
   ]
  },
  {
   "cell_type": "markdown",
   "metadata": {},
   "source": [
    "Para estimar los parámetros que posee una determinada muestra(considerando una determinada distribución) existen variados métodos, en este caso se utilizará el método de la _Máxima Versimilitud_, el cual consiste en encontrar los valores máximos de la función de Verosimilitud.\n",
    "\n",
    "$$ L(x|\\theta) =  \\prod_{i = 1}^{N} f(x_i|\\theta)$$\n",
    "\n",
    "Debido a la forma de esta, y aprovechando las propiedades de la función logaritmo, se suele utilizar la función _Log-Verosimilitud_, con la cual se obtiene el mismo resultado.\n",
    "\n",
    "$$ l(x|\\theta) = \\sum_{i = 1}^{N} ln(f(x_i|\\theta))$$\n",
    "\n",
    "Para encontrar el máximo de la función _Log-Verosimilitud_ se utilizará el método de _Newton-Raphson_, un método iterativo el cual sirve para encontrar las raíces de una función real derivable. \n",
    "\n",
    "$$ x_{i + 1} = x_{i} + \\frac{f(x_i)}{f'(x_i)}$$\n",
    "\n",
    "Dado que encontrar el máximo de una función es equivalente a encontrar las raíces de su primera derivada, el método de Newton-Raphson quedaría de la siguiente manera.\n",
    "\n",
    "$$ \\theta_{i + 1} = \\theta_{i} + \\frac{l'(x|\\theta_i)}{l''(x|\\theta_i)}$$\n",
    "\n",
    "Considerando una distribución Gamma con parámetro $\\alpha$ desconocido y $\\beta = 1$. \n",
    "\n",
    "$$ f(x) = \\frac{1}{\\Gamma(\\alpha)} \\cdot x^{\\alpha - 1} \\cdot e^{-x} $$\n",
    "\n",
    "Al aplicar la función Log-Verosimilitud y derivar, se obtienen las primera dos derivadas necesarias para el método\n",
    "\n",
    "$$l'(x|\\alpha) = -N \\cdot \\frac{\\Gamma'(\\alpha)}{\\Gamma(\\alpha)} + \\sum_{i = 1}^{N}ln(x_i)$$\n",
    "\n",
    "$$l''(x|\\alpha) = -N \\cdot \\left( \\frac{\\Gamma'(\\alpha)}{\\Gamma(\\alpha)} \\right)' $$\n",
    "\n",
    "Con $x_i$ el elemento $i$ de la muestra a utilizar, $N$ la cantidad de elementos en la muestra y $\\alpha$ el parámetro a utilizar.En este caso la muestra se encuentra en el archivo _\"gamma.csv\"_. \n",
    "\n",
    "Se programa ambas derivadas y se implementa el método de Newton-Raphson, considerando $\\alpha_0 = 0.2$ y un umbral de detención de $u = 0.0000001$, es decir, el método se detendrá cuando la diferencia entre $\\alpha_{i + 1}$ y $\\alpha_{i}$ sea menor a dicho umbral."
   ]
  },
  {
   "cell_type": "code",
   "execution_count": 16,
   "metadata": {},
   "outputs": [
    {
     "name": "stdout",
     "output_type": "stream",
     "text": [
      "2.60349215342\n"
     ]
    }
   ],
   "source": [
    "def primeraDerivada(alpha, n, sumatoria):\n",
    "    return (-n * special.digamma(alpha)) + sumatoria \n",
    "    \n",
    "def segundaDerivada(alpha, n):\n",
    "    return (-n * special.polygamma(1, alpha))\n",
    "\n",
    "alpha = 0.2\n",
    "newalpha = 0\n",
    "\n",
    "umbral = 0.0000001\n",
    "\n",
    "muestra = pd.read_csv('gamma.csv')\n",
    "n = len(muestra['x'])\n",
    "sumatoria = 0\n",
    "\n",
    "for i in muestra['x']:\n",
    "    sumatoria += math.log(i)\n",
    "\n",
    "while(True):\n",
    "    newalpha = alpha - (primeraDerivada(alpha, n, sumatoria)/segundaDerivada(alpha, n))\n",
    "    if(abs(newalpha - alpha)< umbral):\n",
    "        alpha = newalpha\n",
    "        break\n",
    "    alpha = newalpha\n",
    "print(alpha)\n",
    "    "
   ]
  },
  {
   "cell_type": "markdown",
   "metadata": {
    "collapsed": true
   },
   "source": [
    "Aplicando el método, se obtiene que el estimador máximo verosimil de $\\alpha$ es de 2.60349215342."
   ]
  },
  {
   "cell_type": "code",
   "execution_count": null,
   "metadata": {
    "collapsed": true
   },
   "outputs": [],
   "source": []
  }
 ],
 "metadata": {
  "kernelspec": {
   "display_name": "Python 3",
   "language": "python",
   "name": "python3"
  },
  "language_info": {
   "codemirror_mode": {
    "name": "ipython",
    "version": 3
   },
   "file_extension": ".py",
   "mimetype": "text/x-python",
   "name": "python",
   "nbconvert_exporter": "python",
   "pygments_lexer": "ipython3",
   "version": "3.6.5"
  }
 },
 "nbformat": 4,
 "nbformat_minor": 2
}
