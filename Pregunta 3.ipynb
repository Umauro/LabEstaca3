{
 "cells": [
  {
   "cell_type": "code",
   "execution_count": 2,
   "metadata": {
    "collapsed": true
   },
   "outputs": [],
   "source": [
    "import pandas as pd\n",
    "import matplotlib.pyplot as plt\n",
    "import numpy as np\n",
    "import scipy as sci\n",
    "from scipy import stats\n",
    "import statsmodels.api as sm\n",
    "#import warnings\n",
    "#warnings.filterwarnings('ignore')"
   ]
  },
  {
   "cell_type": "markdown",
   "metadata": {},
   "source": [
    "Sean\n",
    "$$ X_1 \\sim Exp(0.1) $$\n",
    "$$ X_2 \\sim Exp(0.5) $$\n",
    "$$ X_3 \\sim Exp(0.2) $$\n",
    "$$ X_4 \\sim Poi(1) $$\n",
    "$$ X_5 \\sim Poi(20) $$\n",
    "$$ X_6 \\sim Poi(50) $$\n",
    "$$ X_7 \\sim N(10, 5) $$\n",
    "$$ X_8 \\sim N(20, 30) $$\n",
    "$$ X_9 \\sim N(40, 50) $$\n",
    "\n",
    "Nueve variables aleatorias independientes. Si se considera una nueva variable aleatoria $X_s$ igual a la suma de todas las variables aleatorias anteriores.\n",
    "\n",
    "$$ X_s = \\sum_{i = 1}^{9} X_{i} $$\n",
    "\n",
    "El valor esperado de $X_s$ está dado por la siguiente expresión.\n",
    "\n",
    "$$ E[X_s] = E\\left[\\sum_{i = 1}^{9}X_i\\right] = \\sum_{i = 1}^{9}E[X_i]$$\n",
    "\n",
    "Además, como las variables son independientes, su varianza está dada por la siguiente expresión.\n",
    "\n",
    "$$ V[X_s] = V\\left[\\sum_{i = 1}^{9}X_i\\right] = \\sum_{i = 1}^{9}V[X_i]$$\n",
    "\n",
    "Con dichas expresiones se puede calcular la media y varianza teórica de $X_s$\n",
    "\n",
    "$$ E[X_s] = 0.1 + 0.5 + 0.2 + 1 + 20 + 50 + 10 + 20 + 40 = 141.8$$\n",
    "$$ V[X_s] = 0.1^2 + 0.5^2 + 0.2^2 + 1 + 20 + 50 + 5 + 30 + 50 = 156,3 $$ \n",
    "\n",
    "Para comprobar si se cumple lo dicho por el teorema del límite central se generan distintas muestras de tamaño $100000$, cada una correspondiente a las variables aleatorias antes mencionadas. Luego, como la suma se debería distribuir de manera normal  $\\sim  N(E[X_s],V[X_s])$, se suman las medias y las varianzas de las muestras generadas."
   ]
  },
  {
   "cell_type": "code",
   "execution_count": 9,
   "metadata": {
    "collapsed": false
   },
   "outputs": [
    {
     "name": "stdout",
     "output_type": "stream",
     "text": [
      "La suma de medias es: 141.839807333\n",
      "La suma de varianzas es: 156.330141803\n"
     ]
    }
   ],
   "source": [
    "n = 100000\n",
    "x1 = np.random.exponential(0.1, n)\n",
    "x2 = np.random.exponential(0.5, n)\n",
    "x3 = np.random.exponential(0.2, n)\n",
    "x4 = np.random.poisson(1, n)\n",
    "x5 = np.random.poisson(20, n)\n",
    "x6 = np.random.poisson(50, n)\n",
    "x7 = np.random.normal(10,5**(1/2), n)\n",
    "x8 = np.random.normal(20, 30**(1/2), n)\n",
    "x9 = np.random.normal(40, 50**(1/2), n)\n",
    "\n",
    "media = np.mean(x1) + np.mean(x2) + np.mean(x3) + np.mean(x4) + np.mean(x5) + np.mean(x6) + np.mean(x7) + np.mean(x8) + np.mean(x9)\n",
    "varianza = np.var(x1) + np.var(x2) + np.var(x3) + np.var(x4) + np.var(x5) + np.var(x6) + np.var(x7) + np.var(x8) + np.var(x9)\n",
    "print(\"La suma de medias es: \" + str(media))\n",
    "print(\"La suma de varianzas es: \"+ str(varianza))"
   ]
  },
  {
   "cell_type": "markdown",
   "metadata": {},
   "source": [
    "Se obtiene una media y varianza de $141.8$ y $156.3$ aproximadamente, lo cual concuerda con los valores teóricos obtenidos anteriormente.\n",
    "\n",
    "De esta manera $X_s \\sim N(141.8, 156.3)$, por lo que se puede expresar como estándar de la siguiente manera.\n",
    "\n",
    "$$ N(x; 141.8, 156.3) = N\\left(\\frac{x - 141.8}{156.3}, 1, 0\\right) = \\Phi\\left(\\frac{x - 141.8}{156.3}\\right)  $$\n",
    "\n",
    "Lo cual se logra dividiendo la diferencia entre la variable aleatoria con su media "
   ]
  },
  {
   "cell_type": "code",
   "execution_count": null,
   "metadata": {
    "collapsed": true
   },
   "outputs": [],
   "source": []
  }
 ],
 "metadata": {
  "kernelspec": {
   "display_name": "Python 3",
   "language": "python",
   "name": "python3"
  },
  "language_info": {
   "codemirror_mode": {
    "name": "ipython",
    "version": 3
   },
   "file_extension": ".py",
   "mimetype": "text/x-python",
   "name": "python",
   "nbconvert_exporter": "python",
   "pygments_lexer": "ipython3",
   "version": "3.6.0"
  }
 },
 "nbformat": 4,
 "nbformat_minor": 2
}
